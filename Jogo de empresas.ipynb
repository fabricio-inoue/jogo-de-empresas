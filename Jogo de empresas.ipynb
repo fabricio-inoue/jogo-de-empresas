{
 "cells": [
  {
   "cell_type": "markdown",
   "metadata": {},
   "source": [
    "### Importanto bibliotecas"
   ]
  },
  {
   "cell_type": "code",
   "execution_count": 1,
   "metadata": {},
   "outputs": [],
   "source": [
    "import pandas as pd\n",
    "import seaborn as sns\n",
    "import matplotlib.pyplot as plt\n",
    "import random\n"
   ]
  },
  {
   "cell_type": "markdown",
   "metadata": {},
   "source": [
    "### Classe da Empresa que ira calcular receita, vendas etc"
   ]
  },
  {
   "cell_type": "code",
   "execution_count": 2,
   "id": "825c9efe",
   "metadata": {},
   "outputs": [],
   "source": [
    "class Empresa:\n",
    "    def __init__(self, nome, receita, propaganda, num_vendedores, salario_vendedores, hora_extra, estocagem):\n",
    "        self.nome = nome\n",
    "        self.receita = receita\n",
    "        self.propaganda = propaganda\n",
    "        self.num_vendedores = num_vendedores\n",
    "        self.salario_vendedores = salario_vendedores\n",
    "        self.hora_extra = hora_extra\n",
    "        self.estocagem = estocagem\n",
    "\n",
    "    def calcular_despesas(self):\n",
    "        salario_total = self.num_vendedores * self.salario_vendedores\n",
    "        custo_hora_extra = self.hora_extra if self.hora_extra is not None else 0\n",
    "        custo_estocagem = self.estocagem if self.estocagem is not None else 0\n",
    "\n",
    "        despesas = {\n",
    "            \"Propaganda\": self.propaganda,\n",
    "            \"Salário Vendedores\": salario_total,\n",
    "            \"Hora Extra\": custo_hora_extra,\n",
    "            \"Estocagem\": custo_estocagem\n",
    "        }\n",
    "\n",
    "        return despesas\n",
    "\n",
    "    def calcular_cmv(self):\n",
    "        return 0.2 * self.receita\n",
    "\n",
    "    def calcular_despesas_fixas(self):\n",
    "        return {\n",
    "            \"Salários\": 0.08 * self.receita,\n",
    "            \"Aluguel\": 2000\n",
    "        }\n",
    "\n",
    "    def calcular_total_despesas(self):\n",
    "        despesas = self.calcular_despesas()\n",
    "        despesas_fixas = self.calcular_despesas_fixas()\n",
    "\n",
    "        total_despesas = sum(despesas.values()) + sum(despesas_fixas.values())\n",
    "        return total_despesas\n",
    "\n",
    "    def calcular_resultado(self):\n",
    "        return self.receita - self.calcular_cmv() - self.calcular_total_despesas()\n",
    "\n",
    "    def esta_falida(self):\n",
    "        return self.calcular_resultado() < 0\n",
    "\n"
   ]
  },
  {
   "cell_type": "markdown",
   "metadata": {},
   "source": [
    "### Classe Simulador de Empresas que ira simular com aleatorias ou usuarios"
   ]
  },
  {
   "cell_type": "code",
   "execution_count": 3,
   "metadata": {},
   "outputs": [],
   "source": [
    "class SimuladorEmpresas:\n",
    "    def __init__(self, num_empresas_users, num_empresas_aleatorias, bounds):\n",
    "        self.empresas = []\n",
    "        self.num_empresas_users = num_empresas_users\n",
    "        self.num_empresas_aleatorias = num_empresas_aleatorias\n",
    "        self.resultados = []  # Store results here\n",
    "        if bounds is None:\n",
    "            self.bounds = {\n",
    "                'receita': (10000, 1000000),\n",
    "                'propaganda': (100, 10000),\n",
    "                'num_vendedores': (5, 100),\n",
    "                'salario_vendedores': (1000, 2000),\n",
    "                'hora_extra': (100, 1000),\n",
    "                'estocagem': (50, 1000)\n",
    "            }\n",
    "        else:\n",
    "            self.bounds = bounds\n",
    "\n",
    "    def criar_empresas_aleatorias(self):\n",
    "        for i in range(self.num_empresas_aleatorias):\n",
    "            nome = f\"Empresa Aleatória {i+1}\"\n",
    "            receita = random.uniform(*self.bounds['receita'])  # Random revenue\n",
    "            propaganda = random.uniform(*self.bounds['propaganda'])  # Random advertising expenses\n",
    "            num_vendedores = random.randint(*self.bounds['num_vendedores'])  # Random number of employees\n",
    "            salario_vendedores = random.uniform(*self.bounds['salario_vendedores'])  # Random employee salaries\n",
    "            hora_extra = random.uniform(*self.bounds['hora_extra'])  # Random overtime costs\n",
    "            estocagem = random.uniform(*self.bounds['estocagem'])  # Random storage costs\n",
    "\n",
    "            empresa = Empresa(nome, receita, propaganda, num_vendedores, salario_vendedores, hora_extra, estocagem)\n",
    "            self.empresas.append(empresa)\n",
    "\n",
    "    def inserir_dados_usuario(self):\n",
    "        for i in range(self.num_empresas_users):\n",
    "            print(f\"\\nInserir dados para a Empresa {i + 1}:\")\n",
    "            nome = input(\"Nome da Empresa: \")\n",
    "            receita = self._get_input(\"Receita de vendas (faturamento): \", float, *self.bounds['receita'])\n",
    "            propaganda = self._get_input(\"Despesa com propaganda: \", float, *self.bounds['propaganda'])\n",
    "            num_vendedores = self._get_input(\"Número de vendedores: \", int, *self.bounds['num_vendedores'])\n",
    "            salario_vendedores = self._get_input(\"Salário por vendedor: \", float, *self.bounds['salario_vendedores'])\n",
    "            hora_extra = self._get_input(\"Custo de hora extra (ou Enter para 0): \", float, *self.bounds['hora_extra'])\n",
    "            estocagem = self._get_input(\"Custo de estocagem (ou Enter para 0): \", float, *self.bounds['estocagem'])\n",
    "\n",
    "            empresa = Empresa(nome, receita, propaganda, num_vendedores, salario_vendedores, hora_extra, estocagem)\n",
    "            self.empresas.append(empresa)\n",
    "\n",
    "    def _get_input(self, prompt, type_, min_, max_):\n",
    "        while True:\n",
    "            try:\n",
    "                value = type_(input(prompt))\n",
    "                if min_ <= value <= max_:\n",
    "                    return value\n",
    "                else:\n",
    "                    print(f\"Please enter a value between {min_} and {max_}.\")\n",
    "            except ValueError:\n",
    "                print(\"Invalid input. Please try again.\")\n",
    "\n",
    "    def calcular_e_exibir_resultados(self):\n",
    "        self.resultados = []  # Reset the results\n",
    "        for empresa in self.empresas:\n",
    "            resultado = empresa.calcular_resultado()\n",
    "            self.resultados.append(resultado)\n",
    "\n",
    "        classificacao = sorted(enumerate(self.resultados, start=1), key=lambda x: x[1])\n",
    "        classificacao_final = {empresa[0]: i for i, empresa in enumerate(classificacao, start=1)}\n",
    "\n",
    "        print(\"\\nDemonstrativo de Resultados\")\n",
    "        print(\"Empresa\\tResultado\\tClassificação\\tStatus\")\n",
    "        for i, (empresa, resultado) in enumerate(zip(self.empresas, self.resultados), start=1):\n",
    "            status = \"Falida\" if empresa.esta_falida() else \"Ativa\"\n",
    "            print(f\"{empresa.nome}\\t{resultado:.2f}\\t\\t{classificacao_final[i]}\\t\\t{status}\")\n",
    "\n",
    "    def plotar_grafico(self):\n",
    "        data = {\n",
    "            \"Empresa\": [empresa.nome for empresa in self.empresas],\n",
    "            \"Resultado\": self.resultados,  # Use the stored results\n",
    "            \"Status\": [\"Falida\" if empresa.esta_falida() else \"Ativa\" for empresa in self.empresas]\n",
    "        }\n",
    "        df = pd.DataFrame(data)\n",
    "\n",
    "        plt.figure(figsize=(10, 6))\n",
    "        sns.barplot(x=\"Empresa\", y=\"Resultado\", hue=\"Status\", data=df)\n",
    "        plt.title(\"Resultados das Empresas\")\n",
    "        plt.xlabel(\"Empresa\")\n",
    "        plt.ylabel(\"Resultado\")\n",
    "        plt.show()"
   ]
  },
  {
   "cell_type": "code",
   "execution_count": 9,
   "metadata": {},
   "outputs": [
    {
     "name": "stdout",
     "output_type": "stream",
     "text": [
      "\n",
      "Inserir dados para a Empresa 1:\n"
     ]
    },
    {
     "ename": "AttributeError",
     "evalue": "'SimuladorEmpresas' object has no attribute '_get_input'",
     "output_type": "error",
     "traceback": [
      "\u001b[1;31m---------------------------------------------------------------------------\u001b[0m",
      "\u001b[1;31mAttributeError\u001b[0m                            Traceback (most recent call last)",
      "\u001b[1;32mc:\\Users\\manei\\OneDrive\\Documents\\GitHub\\jogo-de-empresas2\\Jogo de empresas.ipynb Cell 7\u001b[0m line \u001b[0;36m6\n\u001b[0;32m      <a href='vscode-notebook-cell:/c%3A/Users/manei/OneDrive/Documents/GitHub/jogo-de-empresas2/Jogo%20de%20empresas.ipynb#X16sZmlsZQ%3D%3D?line=3'>4</a>\u001b[0m     simulador \u001b[39m=\u001b[39m SimuladorEmpresas(num_empresas_users\u001b[39m=\u001b[39mnum_empresas_users, num_empresas_aleatorias\u001b[39m=\u001b[39mnum_empresas_ale, bounds\u001b[39m=\u001b[39m\u001b[39mNone\u001b[39;00m)\n\u001b[0;32m      <a href='vscode-notebook-cell:/c%3A/Users/manei/OneDrive/Documents/GitHub/jogo-de-empresas2/Jogo%20de%20empresas.ipynb#X16sZmlsZQ%3D%3D?line=4'>5</a>\u001b[0m simulador\u001b[39m.\u001b[39mcriar_empresas_aleatorias()\n\u001b[1;32m----> <a href='vscode-notebook-cell:/c%3A/Users/manei/OneDrive/Documents/GitHub/jogo-de-empresas2/Jogo%20de%20empresas.ipynb#X16sZmlsZQ%3D%3D?line=5'>6</a>\u001b[0m simulador\u001b[39m.\u001b[39;49minserir_dados_usuario()\n\u001b[0;32m      <a href='vscode-notebook-cell:/c%3A/Users/manei/OneDrive/Documents/GitHub/jogo-de-empresas2/Jogo%20de%20empresas.ipynb#X16sZmlsZQ%3D%3D?line=6'>7</a>\u001b[0m simulador\u001b[39m.\u001b[39mcalcular_e_exibir_resultados()\n\u001b[0;32m      <a href='vscode-notebook-cell:/c%3A/Users/manei/OneDrive/Documents/GitHub/jogo-de-empresas2/Jogo%20de%20empresas.ipynb#X16sZmlsZQ%3D%3D?line=7'>8</a>\u001b[0m simulador\u001b[39m.\u001b[39mplotar_grafico()\n",
      "\u001b[1;32mc:\\Users\\manei\\OneDrive\\Documents\\GitHub\\jogo-de-empresas2\\Jogo de empresas.ipynb Cell 7\u001b[0m line \u001b[0;36m3\n\u001b[0;32m     <a href='vscode-notebook-cell:/c%3A/Users/manei/OneDrive/Documents/GitHub/jogo-de-empresas2/Jogo%20de%20empresas.ipynb#X16sZmlsZQ%3D%3D?line=33'>34</a>\u001b[0m \u001b[39mprint\u001b[39m(\u001b[39mf\u001b[39m\u001b[39m\"\u001b[39m\u001b[39m\\n\u001b[39;00m\u001b[39mInserir dados para a Empresa \u001b[39m\u001b[39m{\u001b[39;00mi \u001b[39m+\u001b[39m \u001b[39m1\u001b[39m\u001b[39m}\u001b[39;00m\u001b[39m:\u001b[39m\u001b[39m\"\u001b[39m)\n\u001b[0;32m     <a href='vscode-notebook-cell:/c%3A/Users/manei/OneDrive/Documents/GitHub/jogo-de-empresas2/Jogo%20de%20empresas.ipynb#X16sZmlsZQ%3D%3D?line=34'>35</a>\u001b[0m nome \u001b[39m=\u001b[39m \u001b[39minput\u001b[39m(\u001b[39m\"\u001b[39m\u001b[39mNome da Empresa: \u001b[39m\u001b[39m\"\u001b[39m)\n\u001b[1;32m---> <a href='vscode-notebook-cell:/c%3A/Users/manei/OneDrive/Documents/GitHub/jogo-de-empresas2/Jogo%20de%20empresas.ipynb#X16sZmlsZQ%3D%3D?line=35'>36</a>\u001b[0m receita \u001b[39m=\u001b[39m \u001b[39mself\u001b[39;49m\u001b[39m.\u001b[39;49m_get_input(\u001b[39m\"\u001b[39m\u001b[39mReceita de vendas (faturamento): \u001b[39m\u001b[39m\"\u001b[39m, \u001b[39mfloat\u001b[39m, \u001b[39m*\u001b[39m\u001b[39mself\u001b[39m\u001b[39m.\u001b[39mbounds[\u001b[39m'\u001b[39m\u001b[39mreceita\u001b[39m\u001b[39m'\u001b[39m])\n\u001b[0;32m     <a href='vscode-notebook-cell:/c%3A/Users/manei/OneDrive/Documents/GitHub/jogo-de-empresas2/Jogo%20de%20empresas.ipynb#X16sZmlsZQ%3D%3D?line=36'>37</a>\u001b[0m propaganda \u001b[39m=\u001b[39m \u001b[39mself\u001b[39m\u001b[39m.\u001b[39m_get_input(\u001b[39m\"\u001b[39m\u001b[39mDespesa com propaganda: \u001b[39m\u001b[39m\"\u001b[39m, \u001b[39mfloat\u001b[39m, \u001b[39m*\u001b[39m\u001b[39mself\u001b[39m\u001b[39m.\u001b[39mbounds[\u001b[39m'\u001b[39m\u001b[39mpropaganda\u001b[39m\u001b[39m'\u001b[39m])\n\u001b[0;32m     <a href='vscode-notebook-cell:/c%3A/Users/manei/OneDrive/Documents/GitHub/jogo-de-empresas2/Jogo%20de%20empresas.ipynb#X16sZmlsZQ%3D%3D?line=37'>38</a>\u001b[0m num_vendedores \u001b[39m=\u001b[39m \u001b[39mself\u001b[39m\u001b[39m.\u001b[39m_get_input(\u001b[39m\"\u001b[39m\u001b[39mNúmero de vendedores: \u001b[39m\u001b[39m\"\u001b[39m, \u001b[39mint\u001b[39m, \u001b[39m*\u001b[39m\u001b[39mself\u001b[39m\u001b[39m.\u001b[39mbounds[\u001b[39m'\u001b[39m\u001b[39mnum_vendedores\u001b[39m\u001b[39m'\u001b[39m])\n",
      "\u001b[1;31mAttributeError\u001b[0m: 'SimuladorEmpresas' object has no attribute '_get_input'"
     ]
    }
   ],
   "source": [
    "if __name__ == \"__main__\":\n",
    "    num_empresas_ale = 5  # Set the number of companies you want to simulate\n",
    "    num_empresas_users = 1  # Set the number of companies you want to enter data for\n",
    "    simulador = SimuladorEmpresas(num_empresas_users=num_empresas_users, num_empresas_aleatorias=num_empresas_ale, bounds=None)\n",
    "simulador.criar_empresas_aleatorias()\n",
    "simulador.inserir_dados_usuario()\n",
    "simulador.calcular_e_exibir_resultados()\n",
    "simulador.plotar_grafico()"
   ]
  }
 ],
 "metadata": {
  "kernelspec": {
   "display_name": "Python 3 (ipykernel)",
   "language": "python",
   "name": "python3"
  },
  "language_info": {
   "codemirror_mode": {
    "name": "ipython",
    "version": 3
   },
   "file_extension": ".py",
   "mimetype": "text/x-python",
   "name": "python",
   "nbconvert_exporter": "python",
   "pygments_lexer": "ipython3",
   "version": "3.10.7"
  }
 },
 "nbformat": 4,
 "nbformat_minor": 5
}
